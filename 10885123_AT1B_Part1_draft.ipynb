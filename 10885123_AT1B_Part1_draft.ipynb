{
 "cells": [
  {
   "cell_type": "markdown",
   "metadata": {},
   "source": [
    "# Part 1 - Transfer Learning"
   ]
  },
  {
   "cell_type": "markdown",
   "metadata": {},
   "source": [
    "## 1.0 Packages"
   ]
  },
  {
   "cell_type": "markdown",
   "metadata": {},
   "source": [
    "### 1.1 Loading the Packages used for the model."
   ]
  },
  {
   "cell_type": "code",
   "execution_count": 1,
   "metadata": {},
   "outputs": [
    {
     "name": "stderr",
     "output_type": "stream",
     "text": [
      "Using TensorFlow backend.\n"
     ]
    }
   ],
   "source": [
    "# Data packages\n",
    "import pandas as pd\n",
    "import numpy as np\n",
    "\n",
    "# Image manipulation\n",
    "from PIL import Image\n",
    "\n",
    "# Other system packages\n",
    "import os\n",
    "\n",
    "# Keras functions \n",
    "import keras\n",
    "from keras.models import Sequential\n",
    "from keras.layers import Dense, Conv2D, Activation, Flatten, MaxPool2D, BatchNormalization\n",
    "from keras.optimizers import Adam\n",
    "from keras.applications import resnet50\n",
    "# from keras.datasets import mnist\n",
    "\n",
    "# sklearn functions\n",
    "from sklearn.model_selection import train_test_split\n",
    "from sklearn.metrics import classification_report\n",
    "from sklearn.metrics import confusion_matrix\n",
    "from sklearn.metrics import accuracy_score\n",
    "from sklearn.metrics import roc_auc_score\n",
    "\n",
    "# fashion mnist dataset\n",
    "from keras.datasets import fashion_mnist"
   ]
  },
  {
   "cell_type": "markdown",
   "metadata": {},
   "source": [
    "## 2.0 Data Processing"
   ]
  },
  {
   "cell_type": "markdown",
   "metadata": {},
   "source": [
    "### 2.1 Create the module to standardise dataset."
   ]
  },
  {
   "cell_type": "markdown",
   "metadata": {},
   "source": [
    "Notes:\n",
    "\n",
    "- RGB (Red, Green, Blue) are 8 bit each.\n",
    "- The range for each individual colour is 0-255 (as 2^8 = 256 possibilities).\n",
    "- The combination range is 256 * 256 * 256.\n",
    "- By dividing by 255, the 0-255 range can be described with a 0.0-1.0 range where 0.0 means 0 (0x00) and 1.0 means 255 (0xFF)."
   ]
  },
  {
   "cell_type": "code",
   "execution_count": 2,
   "metadata": {},
   "outputs": [],
   "source": [
    "def standarise_data(dataset):\n",
    "    \n",
    "    new_dataset = dataset/255.\n",
    "    \n",
    "    return new_dataset"
   ]
  },
  {
   "cell_type": "markdown",
   "metadata": {},
   "source": [
    "### 2.2 Create the load_data module to load the fashion mnist dataset."
   ]
  },
  {
   "cell_type": "markdown",
   "metadata": {},
   "source": [
    "- Uses Fashion-MNIST database of fashion articles from Keras.\n",
    "\n",
    "    Dataset of 60,000 28x28 grayscale images of 10 fashion categories, along with a test set of 10,000 images. \n",
    "    This dataset can be used as a drop-in replacement for MNIST. The class labels are:      \n",
    "    \n",
    "        Label | Description\n",
    "        ---------------------\n",
    "        0     | T-shirt/top\n",
    "        1     | Trouser\n",
    "        2     | Pullover\n",
    "        3     | Dress\n",
    "        4     | Coat    \n",
    "        5     | Sandal\n",
    "        6     | Shirt\n",
    "        7     | Sneaker     \n",
    "        8     | Bag \n",
    "        9     | Ankle boot\n",
    "\n",
    "- The load_data module defines the X_train, X_test, y_train, y_test, X, y global variables.\n",
    "      -- X_train - contains the input images to be used for training.\n",
    "      -- y_train - the corresponding labels (classification) of the X_train dataset.\n",
    "      -- X_test - contains the input images to be used for testing.\n",
    "      -- y_test - the corresponding labels (classification) of the X_test dataset.\n",
    "      \n",
    "- Calls the standarise_data module to normalise the input datasets."
   ]
  },
  {
   "cell_type": "code",
   "execution_count": 3,
   "metadata": {},
   "outputs": [],
   "source": [
    "def load_data():\n",
    "    global X_train, X_test, y_train, y_test, X, y\n",
    "\n",
    "    ((X_train, y_train), (X_test, y_test)) = fashion_mnist.load_data()\n",
    "\n",
    "    # Standardize data to have feature values between 0 and 1.\n",
    "    X_train = standarise_data(X_train)\n",
    "    X_test = standarise_data(X_test)\n",
    "    \n",
    "    print (\"Flatten X_train: \" + str(X_train.shape))\n",
    "    print (\"Flatten X_test: \" + str(X_test.shape))\n",
    "    \n",
    "    print (\"y_train: \" + str(y_train.shape))\n",
    "    print (\"y_test: \" + str(y_test.shape))\n",
    "    \n",
    "    return"
   ]
  },
  {
   "cell_type": "code",
   "execution_count": 4,
   "metadata": {},
   "outputs": [
    {
     "name": "stdout",
     "output_type": "stream",
     "text": [
      "Flatten X_train: (60000, 28, 28)\n",
      "Flatten X_test: (10000, 28, 28)\n",
      "y_train: (60000,)\n",
      "y_test: (10000,)\n"
     ]
    }
   ],
   "source": [
    "load_data()"
   ]
  },
  {
   "cell_type": "code",
   "execution_count": 5,
   "metadata": {},
   "outputs": [
    {
     "name": "stdout",
     "output_type": "stream",
     "text": [
      "[9 0 0 ... 3 0 5]\n",
      "[0 1 2 3 4 5 6 7 8 9]\n"
     ]
    }
   ],
   "source": [
    "# Checking how many labels are in the y dataset\n",
    "# There are 10 labels as described above.\n",
    "print(y_train)\n",
    "unique = np.unique(y_train, return_counts=False)\n",
    "print (unique)"
   ]
  },
  {
   "cell_type": "code",
   "execution_count": 6,
   "metadata": {},
   "outputs": [
    {
     "name": "stdout",
     "output_type": "stream",
     "text": [
      "y_train: (60000, 10)\n",
      "y_test: (10000, 10)\n",
      "[[0. 0. 0. ... 0. 0. 1.]\n",
      " [1. 0. 0. ... 0. 0. 0.]\n",
      " [1. 0. 0. ... 0. 0. 0.]\n",
      " ...\n",
      " [0. 0. 0. ... 0. 0. 0.]\n",
      " [1. 0. 0. ... 0. 0. 0.]\n",
      " [0. 0. 0. ... 0. 0. 0.]]\n",
      "[9 2 1 ... 8 1 5]\n"
     ]
    }
   ],
   "source": [
    "# Convert class vectors to binary class matrices\n",
    "# Note we will save y_test for our sklearn metrics\n",
    "y_test_skl = y_test.copy()\n",
    "\n",
    "y_train = keras.utils.to_categorical(y_train,10)\n",
    "y_test = keras.utils.to_categorical(y_test,10)\n",
    "print (\"y_train: \" + str(y_train.shape))\n",
    "print (\"y_test: \" + str(y_test.shape))\n",
    "\n",
    "print(y_train)\n",
    "print(y_test_skl)\n"
   ]
  },
  {
   "cell_type": "markdown",
   "metadata": {},
   "source": [
    "### 2.3 Input Processing (Training and Test dataset)"
   ]
  },
  {
   "cell_type": "code",
   "execution_count": 25,
   "metadata": {},
   "outputs": [],
   "source": [
    "# Using only 2500 images as my computer does not allow more than 4Gb.\n",
    "X_train_s1 = X_train[0:30000]\n",
    "y_train_s1 = y_train[0:30000]\n",
    "\n",
    "X_test_s1 = X_test[0:5000]\n",
    "y_test_s1 = y_test[0:5000]\n"
   ]
  },
  {
   "cell_type": "markdown",
   "metadata": {},
   "source": [
    "Notes: \n",
    "- Checking sample image from the selected sampling and checking the shape before resizing the input."
   ]
  },
  {
   "cell_type": "code",
   "execution_count": 26,
   "metadata": {},
   "outputs": [
    {
     "name": "stdout",
     "output_type": "stream",
     "text": [
      "X_train shape: (30000, 28, 28)\n",
      "y_train shape: (30000, 10)\n"
     ]
    },
    {
     "data": {
      "text/plain": [
       "([], <a list of 0 Text yticklabel objects>)"
      ]
     },
     "execution_count": 26,
     "metadata": {},
     "output_type": "execute_result"
    },
    {
     "data": {
      "image/png": "[encoded data removed]",
      "text/plain": [
       "<Figure size 432x288 with 1 Axes>"
      ]
     },
     "metadata": {},
     "output_type": "display_data"
    }
   ],
   "source": [
    "import matplotlib.pyplot as plt\n",
    "%matplotlib inline\n",
    "\n",
    "print(\"X_train shape: \" + str(X_train_s1.shape))\n",
    "print(\"y_train shape: \" + str(y_train_s1.shape))\n",
    "img_path = X_train[0]\n",
    "plt.imshow(img_path)\n",
    "plt.xticks([])\n",
    "plt.yticks([])"
   ]
  },
  {
   "cell_type": "code",
   "execution_count": 27,
   "metadata": {},
   "outputs": [
    {
     "name": "stdout",
     "output_type": "stream",
     "text": [
      "X_test shape: (5000, 28, 28)\n",
      "y_test shape: (5000, 10)\n"
     ]
    },
    {
     "data": {
      "text/plain": [
       "([], <a list of 0 Text yticklabel objects>)"
      ]
     },
     "execution_count": 27,
     "metadata": {},
     "output_type": "execute_result"
    },
    {
     "data": {
      "image/png": "[encoded data removed]",
      "text/plain": [
       "<Figure size 432x288 with 1 Axes>"
      ]
     },
     "metadata": {},
     "output_type": "display_data"
    }
   ],
   "source": [
    "print(\"X_test shape: \" + str(X_test_s1.shape))\n",
    "print(\"y_test shape: \" + str(y_test_s1.shape))\n",
    "\n",
    "img_path = X_test[0]\n",
    "plt.imshow(img_path)\n",
    "plt.xticks([])\n",
    "plt.yticks([])"
   ]
  },
  {
   "cell_type": "markdown",
   "metadata": {},
   "source": [
    "### 2.4 Reshape training and test dataset."
   ]
  },
  {
   "cell_type": "markdown",
   "metadata": {},
   "source": [
    "Notes:\n",
    "- Original image has a shape of (28 * 28).\n",
    "- The images will be reshaped to fit the ResNet50 model which requires (224 * 224) shape."
   ]
  },
  {
   "cell_type": "markdown",
   "metadata": {},
   "source": [
    "#### 2.4.1 Reshape training dataset (X_train)"
   ]
  },
  {
   "cell_type": "code",
   "execution_count": 28,
   "metadata": {},
   "outputs": [
    {
     "name": "stdout",
     "output_type": "stream",
     "text": [
      "Done 500 images\n",
      "Done 1000 images\n",
      "Done 1500 images\n",
      "Done 2000 images\n",
      "Done 2500 images\n",
      "Done 3000 images\n",
      "Done 3500 images\n",
      "Done 4000 images\n",
      "Done 4500 images\n",
      "Done 5000 images\n",
      "Done 5500 images\n",
      "Done 6000 images\n",
      "Done 6500 images\n",
      "Done 7000 images\n",
      "Done 7500 images\n",
      "Done 8000 images\n",
      "Done 8500 images\n",
      "Done 9000 images\n",
      "Done 9500 images\n",
      "Done 10000 images\n",
      "Done 10500 images\n",
      "Done 11000 images\n",
      "Done 11500 images\n",
      "Done 12000 images\n",
      "Done 12500 images\n",
      "Done 13000 images\n",
      "Done 13500 images\n",
      "Done 14000 images\n",
      "Done 14500 images\n",
      "Done 15000 images\n",
      "Done 15500 images\n",
      "Done 16000 images\n",
      "Done 16500 images\n",
      "Done 17000 images\n",
      "Done 17500 images\n",
      "Done 18000 images\n",
      "Done 18500 images\n",
      "Done 19000 images\n",
      "Done 19500 images\n",
      "Done 20000 images\n",
      "Done 20500 images\n",
      "Done 21000 images\n",
      "Done 21500 images\n",
      "Done 22000 images\n",
      "Done 22500 images\n",
      "Done 23000 images\n",
      "Done 23500 images\n",
      "Done 24000 images\n",
      "Done 24500 images\n",
      "Done 25000 images\n",
      "Done 25500 images\n",
      "Done 26000 images\n",
      "Done 26500 images\n",
      "Done 27000 images\n",
      "Done 27500 images\n",
      "Done 28000 images\n",
      "Done 28500 images\n",
      "Done 29000 images\n",
      "Done 29500 images\n",
      "Done 30000 images\n"
     ]
    }
   ],
   "source": [
    "# We need to do some reshaping\n",
    "import skimage.transform\n",
    "\n",
    "X_train_reshape = []\n",
    "\n",
    "count = 0\n",
    "\n",
    "for image in X_train_s1:\n",
    "    \n",
    "    # Tracking how many images have been resized.\n",
    "    count +=1 \n",
    "    if count % 500 == 0:\n",
    "        print(\"Done {} images\".format(count))\n",
    "        \n",
    "    new_image = skimage.transform.resize(image, (32, 32,3), mode='constant')\n",
    "    X_train_reshape.append(new_image)"
   ]
  },
  {
   "cell_type": "markdown",
   "metadata": {},
   "source": [
    "#### 2.4.2 Reshape testing dataset (X_test)"
   ]
  },
  {
   "cell_type": "code",
   "execution_count": 29,
   "metadata": {},
   "outputs": [
    {
     "name": "stdout",
     "output_type": "stream",
     "text": [
      "Done 500 images\n",
      "Done 1000 images\n",
      "Done 1500 images\n",
      "Done 2000 images\n",
      "Done 2500 images\n",
      "Done 3000 images\n",
      "Done 3500 images\n",
      "Done 4000 images\n",
      "Done 4500 images\n",
      "Done 5000 images\n"
     ]
    }
   ],
   "source": [
    "# Reshaping testing dataset\n",
    "X_test_reshape = []\n",
    "\n",
    "count = 0\n",
    "\n",
    "for image in X_test_s1:\n",
    "    \n",
    "    # Tracking how many images have been resized.\n",
    "    count +=1 \n",
    "    if count % 500 == 0:\n",
    "        print(\"Done {} images\".format(count))\n",
    "        \n",
    "    new_image = skimage.transform.resize(image, (32, 32,3), mode='constant')\n",
    "    X_test_reshape.append(new_image)"
   ]
  },
  {
   "cell_type": "markdown",
   "metadata": {},
   "source": [
    "Notes:\n",
    "- Testing if the datasets were reshaped."
   ]
  },
  {
   "cell_type": "code",
   "execution_count": 30,
   "metadata": {},
   "outputs": [
    {
     "name": "stdout",
     "output_type": "stream",
     "text": [
      "X_train shape before: (30000, 28, 28)\n",
      "X_train shape after: (30000, 32, 32, 3)\n",
      "y_train shape before: (30000, 10)\n"
     ]
    },
    {
     "data": {
      "text/plain": [
       "([], <a list of 0 Text yticklabel objects>)"
      ]
     },
     "execution_count": 30,
     "metadata": {},
     "output_type": "execute_result"
    },
    {
     "data": {
      "image/png": "[encoded data removed]",
      "text/plain": [
       "<Figure size 432x288 with 1 Axes>"
      ]
     },
     "metadata": {},
     "output_type": "display_data"
    }
   ],
   "source": [
    "X_train_reshape = np.array(X_train_reshape)\n",
    "\n",
    "\n",
    "print(\"X_train shape before: \" + str(X_train_s1.shape))\n",
    "print(\"X_train shape after: \" + str(X_train_reshape.shape))\n",
    "\n",
    "print(\"y_train shape before: \" + str(y_train_s1.shape))\n",
    "\n",
    "img_path = X_train_reshape[0]\n",
    "plt.imshow(img_path)\n",
    "plt.xticks([])\n",
    "plt.yticks([])"
   ]
  },
  {
   "cell_type": "code",
   "execution_count": 31,
   "metadata": {},
   "outputs": [
    {
     "name": "stdout",
     "output_type": "stream",
     "text": [
      "X_test shape before: (5000, 28, 28)\n",
      "X_test shape after: (5000, 32, 32, 3)\n",
      "y_test shape before: (5000, 10)\n"
     ]
    },
    {
     "data": {
      "text/plain": [
       "([], <a list of 0 Text yticklabel objects>)"
      ]
     },
     "execution_count": 31,
     "metadata": {},
     "output_type": "execute_result"
    },
    {
     "data": {
      "image/png": "[encoded data removed]",
      "text/plain": [
       "<Figure size 432x288 with 1 Axes>"
      ]
     },
     "metadata": {},
     "output_type": "display_data"
    }
   ],
   "source": [
    "X_test_reshape = np.array(X_test_reshape)\n",
    "print(\"X_test shape before: \" + str(X_test_s1.shape))\n",
    "print(\"X_test shape after: \" + str(X_test_reshape.shape))\n",
    "#y_test = y_test.reshape(10, y_test.shape[0])\n",
    "print(\"y_test shape before: \" + str(y_test_s1.shape))\n",
    "\n",
    "img_path = X_test_reshape[0]\n",
    "plt.imshow(img_path)\n",
    "plt.xticks([])\n",
    "plt.yticks([])"
   ]
  },
  {
   "cell_type": "code",
   "execution_count": 32,
   "metadata": {},
   "outputs": [
    {
     "name": "stdout",
     "output_type": "stream",
     "text": [
      "737.280144\n",
      "122.880144\n"
     ]
    }
   ],
   "source": [
    "# Getting the size of the X_train_reshape and X_test_reshape in MB\n",
    "from sys import getsizeof\n",
    "print(getsizeof(X_train_reshape)/1000000)\n",
    "print(getsizeof(X_test_reshape)/1000000)"
   ]
  },
  {
   "cell_type": "code",
   "execution_count": 33,
   "metadata": {},
   "outputs": [
    {
     "ename": "MemoryError",
     "evalue": "",
     "output_type": "error",
     "traceback": [
      "\u001b[1;31m---------------------------------------------------------------------------\u001b[0m",
      "\u001b[1;31mMemoryError\u001b[0m                               Traceback (most recent call last)",
      "\u001b[1;32m<ipython-input-33-4a5b2251f9eb>\u001b[0m in \u001b[0;36m<module>\u001b[1;34m\u001b[0m\n\u001b[0;32m      3\u001b[0m \u001b[1;31m# Saving this out for use\u001b[0m\u001b[1;33m\u001b[0m\u001b[1;33m\u001b[0m\u001b[1;33m\u001b[0m\u001b[0m\n\u001b[0;32m      4\u001b[0m \u001b[1;32mwith\u001b[0m \u001b[0mopen\u001b[0m\u001b[1;33m(\u001b[0m\u001b[1;34m'X_train_reshape.pickle'\u001b[0m\u001b[1;33m,\u001b[0m \u001b[1;34m'wb'\u001b[0m\u001b[1;33m)\u001b[0m \u001b[1;32mas\u001b[0m \u001b[0mfile_out\u001b[0m\u001b[1;33m:\u001b[0m\u001b[1;33m\u001b[0m\u001b[1;33m\u001b[0m\u001b[0m\n\u001b[1;32m----> 5\u001b[1;33m     \u001b[0mpickle\u001b[0m\u001b[1;33m.\u001b[0m\u001b[0mdump\u001b[0m\u001b[1;33m(\u001b[0m\u001b[0mX_train_reshape\u001b[0m\u001b[1;33m,\u001b[0m \u001b[0mfile_out\u001b[0m\u001b[1;33m)\u001b[0m\u001b[1;33m\u001b[0m\u001b[1;33m\u001b[0m\u001b[0m\n\u001b[0m\u001b[0;32m      6\u001b[0m     \u001b[0mfile_out\u001b[0m\u001b[1;33m.\u001b[0m\u001b[0mclose\u001b[0m\u001b[1;33m(\u001b[0m\u001b[1;33m)\u001b[0m\u001b[1;33m\u001b[0m\u001b[1;33m\u001b[0m\u001b[0m\n\u001b[0;32m      7\u001b[0m \u001b[1;33m\u001b[0m\u001b[0m\n",
      "\u001b[1;31mMemoryError\u001b[0m: "
     ]
    }
   ],
   "source": [
    "import pickle\n",
    "\n",
    "# Saving this out for use\n",
    "with open('X_train_reshape.pickle', 'wb') as file_out:\n",
    "    pickle.dump(X_train_reshape, file_out)\n",
    "    file_out.close()\n",
    "\n",
    "with open('X_test_reshape.pickle', 'wb') as file_out:\n",
    "    pickle.dump(X_test_reshape, file_out)\n",
    "    file_out.close()\n",
    "    \n",
    "# Saving this out for use\n",
    "with open('X_train_s1.pickle', 'wb') as file_out:\n",
    "    pickle.dump(X_train_s1, file_out)\n",
    "    file_out.close()\n",
    "\n",
    "with open('X_test_s1.pickle', 'wb') as file_out:\n",
    "    pickle.dump(X_test_s1, file_out)\n",
    "    file_out.close()\n",
    "    \n",
    "with open('y_train_s1.pickle', 'wb') as file_out:\n",
    "    pickle.dump(y_train_s1, file_out)\n",
    "    file_out.close()\n",
    "\n",
    "with open('y_test_s1.pickle', 'wb') as file_out:\n",
    "    pickle.dump(y_test_s1, file_out)\n",
    "    file_out.close()"
   ]
  },
  {
   "cell_type": "markdown",
   "metadata": {},
   "source": [
    "## 3. Fitting data into ResNet50 model"
   ]
  },
  {
   "cell_type": "markdown",
   "metadata": {},
   "source": [
    "### 3.1 Loading the ResNet50 prebuilt model."
   ]
  },
  {
   "cell_type": "markdown",
   "metadata": {},
   "source": [
    "Notes:\n",
    "- Initializing weights using 'imagenet'.\n",
    "- Removing Fully Connected layers at the end (include_top=False). This is because the fully connected layers at the end can only take fixed size inputs, which has been previously defined by the input shape and all processing in the convolutional layers. Any change to the input shape will change the shape of the input to the fully connected layers, making the weights incompatible (matrix sizes don't match and cannot be applied).\n",
    "- Pickle is used for serializing and de-serializing a Python object structure. Any object in python can be pickled so that it can be saved on disk. What pickle does is that it “serialises” the object first before writing it to file. Pickling is a way to convert a python object (list, dict, etc.) into a character stream. The idea is that this character stream contains all the information necessary to reconstruct the object in another python script."
   ]
  },
  {
   "cell_type": "code",
   "execution_count": 35,
   "metadata": {},
   "outputs": [
    {
     "name": "stderr",
     "output_type": "stream",
     "text": [
      "C:\\Users\\mlcur\\Anaconda3\\envs\\Python 3.6\\lib\\site-packages\\keras_applications\\resnet50.py:265: UserWarning: The output shape of `ResNet50(include_top=False)` has been changed since Keras 2.2.0.\n",
      "  warnings.warn('The output shape of `ResNet50(include_top=False)` '\n"
     ]
    }
   ],
   "source": [
    "# Firstly let us create an instance of the prebuilt model\n",
    "\n",
    "from keras.applications import resnet50\n",
    "ResNet50_prebuilt = resnet50.ResNet50(weights='imagenet', include_top=False, input_shape=[32, 32, 3])"
   ]
  },
  {
   "cell_type": "code",
   "execution_count": 36,
   "metadata": {},
   "outputs": [],
   "source": [
    "import pickle\n",
    "\n",
    "# Saving ResNet50_prebuilt model.\n",
    "with open('ResNet50_prebuilt.pickle', 'wb') as file_out:\n",
    "    pickle.dump(ResNet50_prebuilt, file_out)\n",
    "    file_out.close()"
   ]
  },
  {
   "cell_type": "markdown",
   "metadata": {},
   "source": [
    "### 3.2 Training ResNet50"
   ]
  },
  {
   "cell_type": "markdown",
   "metadata": {},
   "source": [
    "Note:\n",
    "- No added Dense layers.\n",
    "- All ResNet50 layers frozen."
   ]
  },
  {
   "cell_type": "code",
   "execution_count": null,
   "metadata": {},
   "outputs": [],
   "source": [
    "# Load data (deserialize)\n",
    "with open('ResNet50_prebuilt.pickle', 'rb') as file_in:\n",
    "    ResNet50_prebuilt = pickle.load(file_in)\n",
    "    \n",
    "# Load data (deserialize)\n",
    "with open('X_train_reshape.pickle', 'rb') as file_in:\n",
    "    X_train_reshape = pickle.load(file_in)\n",
    "    file_in.close()\n",
    "\n",
    "with open('X_test_reshape.pickle', 'rb') as file_in:\n",
    "    X_test_reshape = pickle.load(file_in)\n",
    "    file_in.close()\n",
    "    \n",
    "with open('y_train_s1.pickle', 'rb') as file_in:\n",
    "    y_train_s1 = pickle.load(file_in)\n",
    "    file_in.close()\n",
    "\n",
    "with open('y_test_s1.pickle', 'rb') as file_in:\n",
    "    y_test_s1 = pickle.load(file_in)\n",
    "    file_in.close()"
   ]
  },
  {
   "cell_type": "code",
   "execution_count": 37,
   "metadata": {},
   "outputs": [],
   "source": [
    "# Set all the layers to not be trainable (freezing all layers)\n",
    "\n",
    "for layer in ResNet50_prebuilt.layers[:]:\n",
    "    layer.trainable = False"
   ]
  },
  {
   "cell_type": "code",
   "execution_count": 38,
   "metadata": {},
   "outputs": [],
   "source": [
    "# Flatten the ResNet50_prebuilt.output layer so that it is the same shape as the final(prediction) layer.\n",
    "x = ResNet50_prebuilt.output\n",
    "x = Flatten()(x)\n",
    "preds = Dense(10, activation=\"sigmoid\")(x)"
   ]
  },
  {
   "cell_type": "code",
   "execution_count": 39,
   "metadata": {},
   "outputs": [
    {
     "name": "stderr",
     "output_type": "stream",
     "text": [
      "C:\\Users\\mlcur\\Anaconda3\\envs\\Python 3.6\\lib\\site-packages\\ipykernel_launcher.py:2: UserWarning: Update your `Model` call to the Keras 2 API: `Model(outputs=Tensor(\"de..., inputs=Tensor(\"in...)`\n",
      "  \n"
     ]
    }
   ],
   "source": [
    "from keras.models import Model \n",
    "ResNet50_model0 = Model(input=ResNet50_prebuilt.input, outputs=preds)"
   ]
  },
  {
   "cell_type": "code",
   "execution_count": 40,
   "metadata": {},
   "outputs": [],
   "source": [
    "from keras import optimizers \n",
    "ResNet50_model0.compile(loss=\"binary_crossentropy\",\n",
    "              optimizer=optimizers.SGD(lr=0.0001, momentum=0.9), metrics=[\"accuracy\"])"
   ]
  },
  {
   "cell_type": "code",
   "execution_count": 41,
   "metadata": {},
   "outputs": [],
   "source": [
    "import pickle\n",
    "\n",
    "# Saving this out for use\n",
    "with open('ResNet50_model0.pickle', 'wb') as file_out:\n",
    "    pickle.dump(ResNet50_model0, file_out)\n",
    "    file_out.close()"
   ]
  },
  {
   "cell_type": "code",
   "execution_count": 42,
   "metadata": {},
   "outputs": [
    {
     "name": "stdout",
     "output_type": "stream",
     "text": [
      "__________________________________________________________________________________________________\n",
      "Layer (type)                    Output Shape         Param #     Connected to                     \n",
      "==================================================================================================\n",
      "input_2 (InputLayer)            (None, 32, 32, 3)    0                                            \n",
      "__________________________________________________________________________________________________\n",
      "conv1_pad (ZeroPadding2D)       (None, 38, 38, 3)    0           input_2[0][0]                    \n",
      "__________________________________________________________________________________________________\n",
      "conv1 (Conv2D)                  (None, 16, 16, 64)   9472        conv1_pad[0][0]                  \n",
      "__________________________________________________________________________________________________\n",
      "bn_conv1 (BatchNormalization)   (None, 16, 16, 64)   256         conv1[0][0]                      \n",
      "__________________________________________________________________________________________________\n",
      "activation_44 (Activation)      (None, 16, 16, 64)   0           bn_conv1[0][0]                   \n",
      "__________________________________________________________________________________________________\n",
      "pool1_pad (ZeroPadding2D)       (None, 18, 18, 64)   0           activation_44[0][0]              \n",
      "__________________________________________________________________________________________________\n",
      "max_pooling2d_2 (MaxPooling2D)  (None, 8, 8, 64)     0           pool1_pad[0][0]                  \n",
      "__________________________________________________________________________________________________\n",
      "res2a_branch2a (Conv2D)         (None, 8, 8, 64)     4160        max_pooling2d_2[0][0]            \n",
      "__________________________________________________________________________________________________\n",
      "bn2a_branch2a (BatchNormalizati (None, 8, 8, 64)     256         res2a_branch2a[0][0]             \n",
      "__________________________________________________________________________________________________\n",
      "activation_45 (Activation)      (None, 8, 8, 64)     0           bn2a_branch2a[0][0]              \n",
      "__________________________________________________________________________________________________\n",
      "res2a_branch2b (Conv2D)         (None, 8, 8, 64)     36928       activation_45[0][0]              \n",
      "__________________________________________________________________________________________________\n",
      "bn2a_branch2b (BatchNormalizati (None, 8, 8, 64)     256         res2a_branch2b[0][0]             \n",
      "__________________________________________________________________________________________________\n",
      "activation_46 (Activation)      (None, 8, 8, 64)     0           bn2a_branch2b[0][0]              \n",
      "__________________________________________________________________________________________________\n",
      "res2a_branch2c (Conv2D)         (None, 8, 8, 256)    16640       activation_46[0][0]              \n",
      "__________________________________________________________________________________________________\n",
      "res2a_branch1 (Conv2D)          (None, 8, 8, 256)    16640       max_pooling2d_2[0][0]            \n",
      "__________________________________________________________________________________________________\n",
      "bn2a_branch2c (BatchNormalizati (None, 8, 8, 256)    1024        res2a_branch2c[0][0]             \n",
      "__________________________________________________________________________________________________\n",
      "bn2a_branch1 (BatchNormalizatio (None, 8, 8, 256)    1024        res2a_branch1[0][0]              \n",
      "__________________________________________________________________________________________________\n",
      "add_15 (Add)                    (None, 8, 8, 256)    0           bn2a_branch2c[0][0]              \n",
      "                                                                 bn2a_branch1[0][0]               \n",
      "__________________________________________________________________________________________________\n",
      "activation_47 (Activation)      (None, 8, 8, 256)    0           add_15[0][0]                     \n",
      "__________________________________________________________________________________________________\n",
      "res2b_branch2a (Conv2D)         (None, 8, 8, 64)     16448       activation_47[0][0]              \n",
      "__________________________________________________________________________________________________\n",
      "bn2b_branch2a (BatchNormalizati (None, 8, 8, 64)     256         res2b_branch2a[0][0]             \n",
      "__________________________________________________________________________________________________\n",
      "activation_48 (Activation)      (None, 8, 8, 64)     0           bn2b_branch2a[0][0]              \n",
      "__________________________________________________________________________________________________\n",
      "res2b_branch2b (Conv2D)         (None, 8, 8, 64)     36928       activation_48[0][0]              \n",
      "__________________________________________________________________________________________________\n",
      "bn2b_branch2b (BatchNormalizati (None, 8, 8, 64)     256         res2b_branch2b[0][0]             \n",
      "__________________________________________________________________________________________________\n",
      "activation_49 (Activation)      (None, 8, 8, 64)     0           bn2b_branch2b[0][0]              \n",
      "__________________________________________________________________________________________________\n",
      "res2b_branch2c (Conv2D)         (None, 8, 8, 256)    16640       activation_49[0][0]              \n",
      "__________________________________________________________________________________________________\n",
      "bn2b_branch2c (BatchNormalizati (None, 8, 8, 256)    1024        res2b_branch2c[0][0]             \n",
      "__________________________________________________________________________________________________\n",
      "add_16 (Add)                    (None, 8, 8, 256)    0           bn2b_branch2c[0][0]              \n",
      "                                                                 activation_47[0][0]              \n",
      "__________________________________________________________________________________________________\n",
      "activation_50 (Activation)      (None, 8, 8, 256)    0           add_16[0][0]                     \n",
      "__________________________________________________________________________________________________\n",
      "res2c_branch2a (Conv2D)         (None, 8, 8, 64)     16448       activation_50[0][0]              \n",
      "__________________________________________________________________________________________________\n",
      "bn2c_branch2a (BatchNormalizati (None, 8, 8, 64)     256         res2c_branch2a[0][0]             \n",
      "__________________________________________________________________________________________________\n",
      "activation_51 (Activation)      (None, 8, 8, 64)     0           bn2c_branch2a[0][0]              \n",
      "__________________________________________________________________________________________________\n",
      "res2c_branch2b (Conv2D)         (None, 8, 8, 64)     36928       activation_51[0][0]              \n",
      "__________________________________________________________________________________________________\n",
      "bn2c_branch2b (BatchNormalizati (None, 8, 8, 64)     256         res2c_branch2b[0][0]             \n",
      "__________________________________________________________________________________________________\n",
      "activation_52 (Activation)      (None, 8, 8, 64)     0           bn2c_branch2b[0][0]              \n",
      "__________________________________________________________________________________________________\n",
      "res2c_branch2c (Conv2D)         (None, 8, 8, 256)    16640       activation_52[0][0]              \n",
      "__________________________________________________________________________________________________\n",
      "bn2c_branch2c (BatchNormalizati (None, 8, 8, 256)    1024        res2c_branch2c[0][0]             \n",
      "__________________________________________________________________________________________________\n",
      "add_17 (Add)                    (None, 8, 8, 256)    0           bn2c_branch2c[0][0]              \n",
      "                                                                 activation_50[0][0]              \n",
      "__________________________________________________________________________________________________\n",
      "activation_53 (Activation)      (None, 8, 8, 256)    0           add_17[0][0]                     \n",
      "__________________________________________________________________________________________________\n",
      "res3a_branch2a (Conv2D)         (None, 4, 4, 128)    32896       activation_53[0][0]              \n",
      "__________________________________________________________________________________________________\n",
      "bn3a_branch2a (BatchNormalizati (None, 4, 4, 128)    512         res3a_branch2a[0][0]             \n",
      "__________________________________________________________________________________________________\n",
      "activation_54 (Activation)      (None, 4, 4, 128)    0           bn3a_branch2a[0][0]              \n",
      "__________________________________________________________________________________________________\n",
      "res3a_branch2b (Conv2D)         (None, 4, 4, 128)    147584      activation_54[0][0]              \n",
      "__________________________________________________________________________________________________\n",
      "bn3a_branch2b (BatchNormalizati (None, 4, 4, 128)    512         res3a_branch2b[0][0]             \n",
      "__________________________________________________________________________________________________\n",
      "activation_55 (Activation)      (None, 4, 4, 128)    0           bn3a_branch2b[0][0]              \n",
      "__________________________________________________________________________________________________\n",
      "res3a_branch2c (Conv2D)         (None, 4, 4, 512)    66048       activation_55[0][0]              \n",
      "__________________________________________________________________________________________________\n",
      "res3a_branch1 (Conv2D)          (None, 4, 4, 512)    131584      activation_53[0][0]              \n",
      "__________________________________________________________________________________________________\n",
      "bn3a_branch2c (BatchNormalizati (None, 4, 4, 512)    2048        res3a_branch2c[0][0]             \n",
      "__________________________________________________________________________________________________\n",
      "bn3a_branch1 (BatchNormalizatio (None, 4, 4, 512)    2048        res3a_branch1[0][0]              \n",
      "__________________________________________________________________________________________________\n",
      "add_18 (Add)                    (None, 4, 4, 512)    0           bn3a_branch2c[0][0]              \n",
      "                                                                 bn3a_branch1[0][0]               \n",
      "__________________________________________________________________________________________________\n",
      "activation_56 (Activation)      (None, 4, 4, 512)    0           add_18[0][0]                     \n",
      "__________________________________________________________________________________________________\n",
      "res3b_branch2a (Conv2D)         (None, 4, 4, 128)    65664       activation_56[0][0]              \n",
      "__________________________________________________________________________________________________\n",
      "bn3b_branch2a (BatchNormalizati (None, 4, 4, 128)    512         res3b_branch2a[0][0]             \n",
      "__________________________________________________________________________________________________\n",
      "activation_57 (Activation)      (None, 4, 4, 128)    0           bn3b_branch2a[0][0]              \n",
      "__________________________________________________________________________________________________\n",
      "res3b_branch2b (Conv2D)         (None, 4, 4, 128)    147584      activation_57[0][0]              \n",
      "__________________________________________________________________________________________________\n",
      "bn3b_branch2b (BatchNormalizati (None, 4, 4, 128)    512         res3b_branch2b[0][0]             \n",
      "__________________________________________________________________________________________________\n",
      "activation_58 (Activation)      (None, 4, 4, 128)    0           bn3b_branch2b[0][0]              \n",
      "__________________________________________________________________________________________________\n",
      "res3b_branch2c (Conv2D)         (None, 4, 4, 512)    66048       activation_58[0][0]              \n",
      "__________________________________________________________________________________________________\n",
      "bn3b_branch2c (BatchNormalizati (None, 4, 4, 512)    2048        res3b_branch2c[0][0]             \n",
      "__________________________________________________________________________________________________\n",
      "add_19 (Add)                    (None, 4, 4, 512)    0           bn3b_branch2c[0][0]              \n",
      "                                                                 activation_56[0][0]              \n",
      "__________________________________________________________________________________________________\n",
      "activation_59 (Activation)      (None, 4, 4, 512)    0           add_19[0][0]                     \n",
      "__________________________________________________________________________________________________\n",
      "res3c_branch2a (Conv2D)         (None, 4, 4, 128)    65664       activation_59[0][0]              \n",
      "__________________________________________________________________________________________________\n",
      "bn3c_branch2a (BatchNormalizati (None, 4, 4, 128)    512         res3c_branch2a[0][0]             \n",
      "__________________________________________________________________________________________________\n",
      "activation_60 (Activation)      (None, 4, 4, 128)    0           bn3c_branch2a[0][0]              \n",
      "__________________________________________________________________________________________________\n",
      "res3c_branch2b (Conv2D)         (None, 4, 4, 128)    147584      activation_60[0][0]              \n",
      "__________________________________________________________________________________________________\n",
      "bn3c_branch2b (BatchNormalizati (None, 4, 4, 128)    512         res3c_branch2b[0][0]             \n",
      "__________________________________________________________________________________________________\n",
      "activation_61 (Activation)      (None, 4, 4, 128)    0           bn3c_branch2b[0][0]              \n",
      "__________________________________________________________________________________________________\n",
      "res3c_branch2c (Conv2D)         (None, 4, 4, 512)    66048       activation_61[0][0]              \n",
      "__________________________________________________________________________________________________\n",
      "bn3c_branch2c (BatchNormalizati (None, 4, 4, 512)    2048        res3c_branch2c[0][0]             \n",
      "__________________________________________________________________________________________________\n",
      "add_20 (Add)                    (None, 4, 4, 512)    0           bn3c_branch2c[0][0]              \n",
      "                                                                 activation_59[0][0]              \n",
      "__________________________________________________________________________________________________\n",
      "activation_62 (Activation)      (None, 4, 4, 512)    0           add_20[0][0]                     \n",
      "__________________________________________________________________________________________________\n",
      "res3d_branch2a (Conv2D)         (None, 4, 4, 128)    65664       activation_62[0][0]              \n",
      "__________________________________________________________________________________________________\n",
      "bn3d_branch2a (BatchNormalizati (None, 4, 4, 128)    512         res3d_branch2a[0][0]             \n",
      "__________________________________________________________________________________________________\n",
      "activation_63 (Activation)      (None, 4, 4, 128)    0           bn3d_branch2a[0][0]              \n",
      "__________________________________________________________________________________________________\n",
      "res3d_branch2b (Conv2D)         (None, 4, 4, 128)    147584      activation_63[0][0]              \n",
      "__________________________________________________________________________________________________\n",
      "bn3d_branch2b (BatchNormalizati (None, 4, 4, 128)    512         res3d_branch2b[0][0]             \n",
      "__________________________________________________________________________________________________\n",
      "activation_64 (Activation)      (None, 4, 4, 128)    0           bn3d_branch2b[0][0]              \n",
      "__________________________________________________________________________________________________\n",
      "res3d_branch2c (Conv2D)         (None, 4, 4, 512)    66048       activation_64[0][0]              \n",
      "__________________________________________________________________________________________________\n",
      "bn3d_branch2c (BatchNormalizati (None, 4, 4, 512)    2048        res3d_branch2c[0][0]             \n",
      "__________________________________________________________________________________________________\n",
      "add_21 (Add)                    (None, 4, 4, 512)    0           bn3d_branch2c[0][0]              \n",
      "                                                                 activation_62[0][0]              \n",
      "__________________________________________________________________________________________________\n",
      "activation_65 (Activation)      (None, 4, 4, 512)    0           add_21[0][0]                     \n",
      "__________________________________________________________________________________________________\n",
      "res4a_branch2a (Conv2D)         (None, 2, 2, 256)    131328      activation_65[0][0]              \n",
      "__________________________________________________________________________________________________\n",
      "bn4a_branch2a (BatchNormalizati (None, 2, 2, 256)    1024        res4a_branch2a[0][0]             \n",
      "__________________________________________________________________________________________________\n",
      "activation_66 (Activation)      (None, 2, 2, 256)    0           bn4a_branch2a[0][0]              \n",
      "__________________________________________________________________________________________________\n",
      "res4a_branch2b (Conv2D)         (None, 2, 2, 256)    590080      activation_66[0][0]              \n",
      "__________________________________________________________________________________________________\n",
      "bn4a_branch2b (BatchNormalizati (None, 2, 2, 256)    1024        res4a_branch2b[0][0]             \n",
      "__________________________________________________________________________________________________\n",
      "activation_67 (Activation)      (None, 2, 2, 256)    0           bn4a_branch2b[0][0]              \n",
      "__________________________________________________________________________________________________\n",
      "res4a_branch2c (Conv2D)         (None, 2, 2, 1024)   263168      activation_67[0][0]              \n",
      "__________________________________________________________________________________________________\n",
      "res4a_branch1 (Conv2D)          (None, 2, 2, 1024)   525312      activation_65[0][0]              \n",
      "__________________________________________________________________________________________________\n",
      "bn4a_branch2c (BatchNormalizati (None, 2, 2, 1024)   4096        res4a_branch2c[0][0]             \n",
      "__________________________________________________________________________________________________\n",
      "bn4a_branch1 (BatchNormalizatio (None, 2, 2, 1024)   4096        res4a_branch1[0][0]              \n",
      "__________________________________________________________________________________________________\n",
      "add_22 (Add)                    (None, 2, 2, 1024)   0           bn4a_branch2c[0][0]              \n",
      "                                                                 bn4a_branch1[0][0]               \n",
      "__________________________________________________________________________________________________\n",
      "activation_68 (Activation)      (None, 2, 2, 1024)   0           add_22[0][0]                     \n",
      "__________________________________________________________________________________________________\n",
      "res4b_branch2a (Conv2D)         (None, 2, 2, 256)    262400      activation_68[0][0]              \n",
      "__________________________________________________________________________________________________\n",
      "bn4b_branch2a (BatchNormalizati (None, 2, 2, 256)    1024        res4b_branch2a[0][0]             \n",
      "__________________________________________________________________________________________________\n",
      "activation_69 (Activation)      (None, 2, 2, 256)    0           bn4b_branch2a[0][0]              \n",
      "__________________________________________________________________________________________________\n",
      "res4b_branch2b (Conv2D)         (None, 2, 2, 256)    590080      activation_69[0][0]              \n",
      "__________________________________________________________________________________________________\n",
      "bn4b_branch2b (BatchNormalizati (None, 2, 2, 256)    1024        res4b_branch2b[0][0]             \n",
      "__________________________________________________________________________________________________\n",
      "activation_70 (Activation)      (None, 2, 2, 256)    0           bn4b_branch2b[0][0]              \n",
      "__________________________________________________________________________________________________\n",
      "res4b_branch2c (Conv2D)         (None, 2, 2, 1024)   263168      activation_70[0][0]              \n",
      "__________________________________________________________________________________________________\n",
      "bn4b_branch2c (BatchNormalizati (None, 2, 2, 1024)   4096        res4b_branch2c[0][0]             \n",
      "__________________________________________________________________________________________________\n",
      "add_23 (Add)                    (None, 2, 2, 1024)   0           bn4b_branch2c[0][0]              \n",
      "                                                                 activation_68[0][0]              \n",
      "__________________________________________________________________________________________________\n",
      "activation_71 (Activation)      (None, 2, 2, 1024)   0           add_23[0][0]                     \n",
      "__________________________________________________________________________________________________\n",
      "res4c_branch2a (Conv2D)         (None, 2, 2, 256)    262400      activation_71[0][0]              \n",
      "__________________________________________________________________________________________________\n",
      "bn4c_branch2a (BatchNormalizati (None, 2, 2, 256)    1024        res4c_branch2a[0][0]             \n",
      "__________________________________________________________________________________________________\n",
      "activation_72 (Activation)      (None, 2, 2, 256)    0           bn4c_branch2a[0][0]              \n",
      "__________________________________________________________________________________________________\n",
      "res4c_branch2b (Conv2D)         (None, 2, 2, 256)    590080      activation_72[0][0]              \n",
      "__________________________________________________________________________________________________\n",
      "bn4c_branch2b (BatchNormalizati (None, 2, 2, 256)    1024        res4c_branch2b[0][0]             \n",
      "__________________________________________________________________________________________________\n",
      "activation_73 (Activation)      (None, 2, 2, 256)    0           bn4c_branch2b[0][0]              \n",
      "__________________________________________________________________________________________________\n",
      "res4c_branch2c (Conv2D)         (None, 2, 2, 1024)   263168      activation_73[0][0]              \n",
      "__________________________________________________________________________________________________\n",
      "bn4c_branch2c (BatchNormalizati (None, 2, 2, 1024)   4096        res4c_branch2c[0][0]             \n",
      "__________________________________________________________________________________________________\n",
      "add_24 (Add)                    (None, 2, 2, 1024)   0           bn4c_branch2c[0][0]              \n",
      "                                                                 activation_71[0][0]              \n",
      "__________________________________________________________________________________________________\n",
      "activation_74 (Activation)      (None, 2, 2, 1024)   0           add_24[0][0]                     \n",
      "__________________________________________________________________________________________________\n",
      "res4d_branch2a (Conv2D)         (None, 2, 2, 256)    262400      activation_74[0][0]              \n",
      "__________________________________________________________________________________________________\n",
      "bn4d_branch2a (BatchNormalizati (None, 2, 2, 256)    1024        res4d_branch2a[0][0]             \n",
      "__________________________________________________________________________________________________\n",
      "activation_75 (Activation)      (None, 2, 2, 256)    0           bn4d_branch2a[0][0]              \n",
      "__________________________________________________________________________________________________\n",
      "res4d_branch2b (Conv2D)         (None, 2, 2, 256)    590080      activation_75[0][0]              \n",
      "__________________________________________________________________________________________________\n",
      "bn4d_branch2b (BatchNormalizati (None, 2, 2, 256)    1024        res4d_branch2b[0][0]             \n",
      "__________________________________________________________________________________________________\n",
      "activation_76 (Activation)      (None, 2, 2, 256)    0           bn4d_branch2b[0][0]              \n",
      "__________________________________________________________________________________________________\n",
      "res4d_branch2c (Conv2D)         (None, 2, 2, 1024)   263168      activation_76[0][0]              \n",
      "__________________________________________________________________________________________________\n",
      "bn4d_branch2c (BatchNormalizati (None, 2, 2, 1024)   4096        res4d_branch2c[0][0]             \n",
      "__________________________________________________________________________________________________\n",
      "add_25 (Add)                    (None, 2, 2, 1024)   0           bn4d_branch2c[0][0]              \n",
      "                                                                 activation_74[0][0]              \n",
      "__________________________________________________________________________________________________\n",
      "activation_77 (Activation)      (None, 2, 2, 1024)   0           add_25[0][0]                     \n",
      "__________________________________________________________________________________________________\n",
      "res4e_branch2a (Conv2D)         (None, 2, 2, 256)    262400      activation_77[0][0]              \n",
      "__________________________________________________________________________________________________\n",
      "bn4e_branch2a (BatchNormalizati (None, 2, 2, 256)    1024        res4e_branch2a[0][0]             \n",
      "__________________________________________________________________________________________________\n",
      "activation_78 (Activation)      (None, 2, 2, 256)    0           bn4e_branch2a[0][0]              \n",
      "__________________________________________________________________________________________________\n",
      "res4e_branch2b (Conv2D)         (None, 2, 2, 256)    590080      activation_78[0][0]              \n",
      "__________________________________________________________________________________________________\n",
      "bn4e_branch2b (BatchNormalizati (None, 2, 2, 256)    1024        res4e_branch2b[0][0]             \n",
      "__________________________________________________________________________________________________\n",
      "activation_79 (Activation)      (None, 2, 2, 256)    0           bn4e_branch2b[0][0]              \n",
      "__________________________________________________________________________________________________\n",
      "res4e_branch2c (Conv2D)         (None, 2, 2, 1024)   263168      activation_79[0][0]              \n",
      "__________________________________________________________________________________________________\n",
      "bn4e_branch2c (BatchNormalizati (None, 2, 2, 1024)   4096        res4e_branch2c[0][0]             \n",
      "__________________________________________________________________________________________________\n",
      "add_26 (Add)                    (None, 2, 2, 1024)   0           bn4e_branch2c[0][0]              \n",
      "                                                                 activation_77[0][0]              \n",
      "__________________________________________________________________________________________________\n",
      "activation_80 (Activation)      (None, 2, 2, 1024)   0           add_26[0][0]                     \n",
      "__________________________________________________________________________________________________\n",
      "res4f_branch2a (Conv2D)         (None, 2, 2, 256)    262400      activation_80[0][0]              \n",
      "__________________________________________________________________________________________________\n",
      "bn4f_branch2a (BatchNormalizati (None, 2, 2, 256)    1024        res4f_branch2a[0][0]             \n",
      "__________________________________________________________________________________________________\n",
      "activation_81 (Activation)      (None, 2, 2, 256)    0           bn4f_branch2a[0][0]              \n",
      "__________________________________________________________________________________________________\n",
      "res4f_branch2b (Conv2D)         (None, 2, 2, 256)    590080      activation_81[0][0]              \n",
      "__________________________________________________________________________________________________\n",
      "bn4f_branch2b (BatchNormalizati (None, 2, 2, 256)    1024        res4f_branch2b[0][0]             \n",
      "__________________________________________________________________________________________________\n",
      "activation_82 (Activation)      (None, 2, 2, 256)    0           bn4f_branch2b[0][0]              \n",
      "__________________________________________________________________________________________________\n",
      "res4f_branch2c (Conv2D)         (None, 2, 2, 1024)   263168      activation_82[0][0]              \n",
      "__________________________________________________________________________________________________\n",
      "bn4f_branch2c (BatchNormalizati (None, 2, 2, 1024)   4096        res4f_branch2c[0][0]             \n",
      "__________________________________________________________________________________________________\n",
      "add_27 (Add)                    (None, 2, 2, 1024)   0           bn4f_branch2c[0][0]              \n",
      "                                                                 activation_80[0][0]              \n",
      "__________________________________________________________________________________________________\n",
      "activation_83 (Activation)      (None, 2, 2, 1024)   0           add_27[0][0]                     \n",
      "__________________________________________________________________________________________________\n",
      "res5a_branch2a (Conv2D)         (None, 1, 1, 512)    524800      activation_83[0][0]              \n",
      "__________________________________________________________________________________________________\n",
      "bn5a_branch2a (BatchNormalizati (None, 1, 1, 512)    2048        res5a_branch2a[0][0]             \n",
      "__________________________________________________________________________________________________\n",
      "activation_84 (Activation)      (None, 1, 1, 512)    0           bn5a_branch2a[0][0]              \n",
      "__________________________________________________________________________________________________\n",
      "res5a_branch2b (Conv2D)         (None, 1, 1, 512)    2359808     activation_84[0][0]              \n",
      "__________________________________________________________________________________________________\n",
      "bn5a_branch2b (BatchNormalizati (None, 1, 1, 512)    2048        res5a_branch2b[0][0]             \n",
      "__________________________________________________________________________________________________\n",
      "activation_85 (Activation)      (None, 1, 1, 512)    0           bn5a_branch2b[0][0]              \n",
      "__________________________________________________________________________________________________\n",
      "res5a_branch2c (Conv2D)         (None, 1, 1, 2048)   1050624     activation_85[0][0]              \n",
      "__________________________________________________________________________________________________\n",
      "res5a_branch1 (Conv2D)          (None, 1, 1, 2048)   2099200     activation_83[0][0]              \n",
      "__________________________________________________________________________________________________\n",
      "bn5a_branch2c (BatchNormalizati (None, 1, 1, 2048)   8192        res5a_branch2c[0][0]             \n",
      "__________________________________________________________________________________________________\n",
      "bn5a_branch1 (BatchNormalizatio (None, 1, 1, 2048)   8192        res5a_branch1[0][0]              \n",
      "__________________________________________________________________________________________________\n",
      "add_28 (Add)                    (None, 1, 1, 2048)   0           bn5a_branch2c[0][0]              \n",
      "                                                                 bn5a_branch1[0][0]               \n",
      "__________________________________________________________________________________________________\n",
      "activation_86 (Activation)      (None, 1, 1, 2048)   0           add_28[0][0]                     \n",
      "__________________________________________________________________________________________________\n",
      "res5b_branch2a (Conv2D)         (None, 1, 1, 512)    1049088     activation_86[0][0]              \n",
      "__________________________________________________________________________________________________\n",
      "bn5b_branch2a (BatchNormalizati (None, 1, 1, 512)    2048        res5b_branch2a[0][0]             \n",
      "__________________________________________________________________________________________________\n",
      "activation_87 (Activation)      (None, 1, 1, 512)    0           bn5b_branch2a[0][0]              \n",
      "__________________________________________________________________________________________________\n",
      "res5b_branch2b (Conv2D)         (None, 1, 1, 512)    2359808     activation_87[0][0]              \n",
      "__________________________________________________________________________________________________\n",
      "bn5b_branch2b (BatchNormalizati (None, 1, 1, 512)    2048        res5b_branch2b[0][0]             \n",
      "__________________________________________________________________________________________________\n",
      "activation_88 (Activation)      (None, 1, 1, 512)    0           bn5b_branch2b[0][0]              \n",
      "__________________________________________________________________________________________________\n",
      "res5b_branch2c (Conv2D)         (None, 1, 1, 2048)   1050624     activation_88[0][0]              \n",
      "__________________________________________________________________________________________________\n",
      "bn5b_branch2c (BatchNormalizati (None, 1, 1, 2048)   8192        res5b_branch2c[0][0]             \n",
      "__________________________________________________________________________________________________\n",
      "add_29 (Add)                    (None, 1, 1, 2048)   0           bn5b_branch2c[0][0]              \n",
      "                                                                 activation_86[0][0]              \n",
      "__________________________________________________________________________________________________\n",
      "activation_89 (Activation)      (None, 1, 1, 2048)   0           add_29[0][0]                     \n",
      "__________________________________________________________________________________________________\n",
      "res5c_branch2a (Conv2D)         (None, 1, 1, 512)    1049088     activation_89[0][0]              \n",
      "__________________________________________________________________________________________________\n",
      "bn5c_branch2a (BatchNormalizati (None, 1, 1, 512)    2048        res5c_branch2a[0][0]             \n",
      "__________________________________________________________________________________________________\n",
      "activation_90 (Activation)      (None, 1, 1, 512)    0           bn5c_branch2a[0][0]              \n",
      "__________________________________________________________________________________________________\n",
      "res5c_branch2b (Conv2D)         (None, 1, 1, 512)    2359808     activation_90[0][0]              \n",
      "__________________________________________________________________________________________________\n",
      "bn5c_branch2b (BatchNormalizati (None, 1, 1, 512)    2048        res5c_branch2b[0][0]             \n",
      "__________________________________________________________________________________________________\n",
      "activation_91 (Activation)      (None, 1, 1, 512)    0           bn5c_branch2b[0][0]              \n",
      "__________________________________________________________________________________________________\n",
      "res5c_branch2c (Conv2D)         (None, 1, 1, 2048)   1050624     activation_91[0][0]              \n",
      "__________________________________________________________________________________________________\n",
      "bn5c_branch2c (BatchNormalizati (None, 1, 1, 2048)   8192        res5c_branch2c[0][0]             \n",
      "__________________________________________________________________________________________________\n",
      "add_30 (Add)                    (None, 1, 1, 2048)   0           bn5c_branch2c[0][0]              \n",
      "                                                                 activation_89[0][0]              \n",
      "__________________________________________________________________________________________________\n",
      "activation_92 (Activation)      (None, 1, 1, 2048)   0           add_30[0][0]                     \n",
      "__________________________________________________________________________________________________\n",
      "flatten_1 (Flatten)             (None, 2048)         0           activation_92[0][0]              \n",
      "__________________________________________________________________________________________________\n",
      "dense_1 (Dense)                 (None, 10)           20490       flatten_1[0][0]                  \n",
      "==================================================================================================\n",
      "Total params: 23,608,202\n",
      "Trainable params: 20,490\n",
      "Non-trainable params: 23,587,712\n",
      "__________________________________________________________________________________________________\n"
     ]
    }
   ],
   "source": [
    "# Printing the model summary\n",
    "# ResNet_model0 model has 49 prebuilt layers (ResNet50.output layers) plus 1 final layer added for the output.\n",
    "ResNet50_model0.summary()"
   ]
  },
  {
   "cell_type": "code",
   "execution_count": 43,
   "metadata": {},
   "outputs": [
    {
     "name": "stdout",
     "output_type": "stream",
     "text": [
      "<keras.engine.input_layer.InputLayer object at 0x000001D21EEB3EF0> False\n",
      "<keras.layers.convolutional.ZeroPadding2D object at 0x000001D21EEB3E10> False\n",
      "<keras.layers.convolutional.Conv2D object at 0x000001D21EEB3EB8> False\n",
      "<keras.layers.normalization.BatchNormalization object at 0x000001D21EEE7358> False\n",
      "<keras.layers.core.Activation object at 0x000001D21EEE72E8> False\n",
      "<keras.layers.convolutional.ZeroPadding2D object at 0x000001D21EEE76D8> False\n",
      "<keras.layers.pooling.MaxPooling2D object at 0x000001D21EEF26D8> False\n",
      "<keras.layers.convolutional.Conv2D object at 0x000001D21EEF2F60> False\n",
      "<keras.layers.normalization.BatchNormalization object at 0x000001D21EFEC358> False\n",
      "<keras.layers.core.Activation object at 0x000001D21EFEC7B8> False\n",
      "<keras.layers.convolutional.Conv2D object at 0x000001D21F065A20> False\n",
      "<keras.layers.normalization.BatchNormalization object at 0x000001D21F028DD8> False\n",
      "<keras.layers.core.Activation object at 0x000001D21F0B4780> False\n",
      "<keras.layers.convolutional.Conv2D object at 0x000001D21F11FDA0> False\n",
      "<keras.layers.convolutional.Conv2D object at 0x000001D21F1D9048> False\n",
      "<keras.layers.normalization.BatchNormalization object at 0x000001D21F13DBE0> False\n",
      "<keras.layers.normalization.BatchNormalization object at 0x000001D21F22E160> False\n",
      "<keras.layers.merge.Add object at 0x000001D21F242898> False\n",
      "<keras.layers.core.Activation object at 0x000001D21F384940> False\n",
      "<keras.layers.convolutional.Conv2D object at 0x000001D21F3CB7B8> False\n",
      "<keras.layers.normalization.BatchNormalization object at 0x000001D21F34D2B0> False\n",
      "<keras.layers.core.Activation object at 0x000001D21F44F278> False\n",
      "<keras.layers.convolutional.Conv2D object at 0x000001D21F46ABE0> False\n",
      "<keras.layers.normalization.BatchNormalization object at 0x000001D21F524B38> False\n",
      "<keras.layers.core.Activation object at 0x000001D21F5635F8> False\n",
      "<keras.layers.convolutional.Conv2D object at 0x000001D21F586CF8> False\n",
      "<keras.layers.normalization.BatchNormalization object at 0x000001D21F5BF4A8> False\n",
      "<keras.layers.merge.Add object at 0x000001D21F6848D0> False\n",
      "<keras.layers.core.Activation object at 0x000001D21F6A1B00> False\n",
      "<keras.layers.convolutional.Conv2D object at 0x000001D21F6A1E80> False\n",
      "<keras.layers.normalization.BatchNormalization object at 0x000001D21F750CC0> False\n",
      "<keras.layers.core.Activation object at 0x000001D21F79EEB8> False\n",
      "<keras.layers.convolutional.Conv2D object at 0x000001D21F7E7940> False\n",
      "<keras.layers.normalization.BatchNormalization object at 0x000001D21F7E7C50> False\n",
      "<keras.layers.core.Activation object at 0x000001D21F8B6400> False\n",
      "<keras.layers.convolutional.Conv2D object at 0x000001D21F901C18> False\n",
      "<keras.layers.normalization.BatchNormalization object at 0x000001D21F939F60> False\n",
      "<keras.layers.merge.Add object at 0x000001D21F9FF7F0> False\n",
      "<keras.layers.core.Activation object at 0x000001D21FA20EB8> False\n",
      "<keras.layers.convolutional.Conv2D object at 0x000001D21FA5DEF0> False\n",
      "<keras.layers.normalization.BatchNormalization object at 0x000001D21FAB4F60> False\n",
      "<keras.layers.core.Activation object at 0x000001D21FB203C8> False\n",
      "<keras.layers.convolutional.Conv2D object at 0x000001D21FB9EDA0> False\n",
      "<keras.layers.normalization.BatchNormalization object at 0x000001D21FBEBEF0> False\n",
      "<keras.layers.core.Activation object at 0x000001D21FB590F0> False\n",
      "<keras.layers.convolutional.Conv2D object at 0x000001D21FC61DD8> False\n",
      "<keras.layers.convolutional.Conv2D object at 0x000001D21FD4C0B8> False\n",
      "<keras.layers.normalization.BatchNormalization object at 0x000001D21FC7D860> False\n",
      "<keras.layers.normalization.BatchNormalization object at 0x000001D21FDA30B8> False\n",
      "<keras.layers.merge.Add object at 0x000001D21FDB9EB8> False\n",
      "<keras.layers.core.Activation object at 0x000001D21FEC9BE0> False\n",
      "<keras.layers.convolutional.Conv2D object at 0x000001D21FEC9630> False\n",
      "<keras.layers.normalization.BatchNormalization object at 0x000001D21FF45780> False\n",
      "<keras.layers.core.Activation object at 0x000001D21FFC8240> False\n",
      "<keras.layers.convolutional.Conv2D object at 0x000001D220037BE0> False\n",
      "<keras.layers.normalization.BatchNormalization object at 0x000001D21FFE34E0> False\n",
      "<keras.layers.core.Activation object at 0x000001D2200DD5C0> False\n",
      "<keras.layers.convolutional.Conv2D object at 0x000001D2200FEBA8> False\n",
      "<keras.layers.normalization.BatchNormalization object at 0x000001D220138470> False\n",
      "<keras.layers.merge.Add object at 0x000001D2201FF898> False\n",
      "<keras.layers.core.Activation object at 0x000001D22021CE48> False\n",
      "<keras.layers.convolutional.Conv2D object at 0x000001D22021CD30> False\n",
      "<keras.layers.normalization.BatchNormalization object at 0x000001D220256978> False\n",
      "<keras.layers.core.Activation object at 0x000001D2202B90B8> False\n",
      "<keras.layers.convolutional.Conv2D object at 0x000001D220340048> False\n",
      "<keras.layers.normalization.BatchNormalization object at 0x000001D220361160> False\n",
      "<keras.layers.core.Activation object at 0x000001D22042F0F0> False\n",
      "<keras.layers.convolutional.Conv2D object at 0x000001D22047FBE0> False\n",
      "<keras.layers.normalization.BatchNormalization object at 0x000001D2204B2FD0> False\n",
      "<keras.layers.merge.Add object at 0x000001D22057D7B8> False\n",
      "<keras.layers.core.Activation object at 0x000001D22059CE80> False\n",
      "<keras.layers.convolutional.Conv2D object at 0x000001D220659668> False\n",
      "<keras.layers.normalization.BatchNormalization object at 0x000001D2205BCE80> False\n",
      "<keras.layers.core.Activation object at 0x000001D220697390> False\n",
      "<keras.layers.convolutional.Conv2D object at 0x000001D220717D68> False\n",
      "<keras.layers.normalization.BatchNormalization object at 0x000001D2206D40B8> False\n",
      "<keras.layers.core.Activation object at 0x000001D2207B7A20> False\n",
      "<keras.layers.convolutional.Conv2D object at 0x000001D2207DAEF0> False\n",
      "<keras.layers.normalization.BatchNormalization object at 0x000001D2207F6978> False\n",
      "<keras.layers.merge.Add object at 0x000001D2208C6630> False\n",
      "<keras.layers.core.Activation object at 0x000001D22090DB70> False\n",
      "<keras.layers.convolutional.Conv2D object at 0x000001D22090D668> False\n",
      "<keras.layers.normalization.BatchNormalization object at 0x000001D22099A160> False\n",
      "<keras.layers.core.Activation object at 0x000001D220A1F1D0> False\n",
      "<keras.layers.convolutional.Conv2D object at 0x000001D220A3A5C0> False\n",
      "<keras.layers.normalization.BatchNormalization object at 0x000001D220A72F60> False\n",
      "<keras.layers.core.Activation object at 0x000001D220B31518> False\n",
      "<keras.layers.convolutional.Conv2D object at 0x000001D220B53B00> False\n",
      "<keras.layers.convolutional.Conv2D object at 0x000001D220C537F0> False\n",
      "<keras.layers.normalization.BatchNormalization object at 0x000001D220B8EDA0> False\n",
      "<keras.layers.normalization.BatchNormalization object at 0x000001D220C92C18> False\n",
      "<keras.layers.merge.Add object at 0x000001D220CAE8D0> False\n",
      "<keras.layers.core.Activation object at 0x000001D220DBDB70> False\n",
      "<keras.layers.convolutional.Conv2D object at 0x000001D220DBD668> False\n",
      "<keras.layers.normalization.BatchNormalization object at 0x000001D220E3BE10> False\n",
      "<keras.layers.core.Activation object at 0x000001D220EB6710> False\n",
      "<keras.layers.convolutional.Conv2D object at 0x000001D220F31D68> False\n",
      "<keras.layers.normalization.BatchNormalization object at 0x000001D220EF00B8> False\n",
      "<keras.layers.core.Activation object at 0x000001D220FD4A20> False\n",
      "<keras.layers.convolutional.Conv2D object at 0x000001D220FF6EF0> False\n",
      "<keras.layers.normalization.BatchNormalization object at 0x000001D221013978> False\n",
      "<keras.layers.merge.Add object at 0x000001D2210E2630> False\n",
      "<keras.layers.core.Activation object at 0x000001D221136B70> False\n",
      "<keras.layers.convolutional.Conv2D object at 0x000001D221136668> False\n",
      "<keras.layers.normalization.BatchNormalization object at 0x000001D2211B5E10> False\n",
      "<keras.layers.core.Activation object at 0x000001D221230358> False\n",
      "<keras.layers.convolutional.Conv2D object at 0x000001D2212AC400> False\n",
      "<keras.layers.normalization.BatchNormalization object at 0x000001D22126A080> False\n",
      "<keras.layers.core.Activation object at 0x000001D22134F9E8> False\n",
      "<keras.layers.convolutional.Conv2D object at 0x000001D221371FD0> False\n",
      "<keras.layers.normalization.BatchNormalization object at 0x000001D221390320> False\n",
      "<keras.layers.merge.Add object at 0x000001D221423908> False\n",
      "<keras.layers.core.Activation object at 0x000001D2214B3470> False\n",
      "<keras.layers.convolutional.Conv2D object at 0x000001D2214B34A8> False\n",
      "<keras.layers.normalization.BatchNormalization object at 0x000001D22152FDD8> False\n",
      "<keras.layers.core.Activation object at 0x000001D2215AD320> False\n",
      "<keras.layers.convolutional.Conv2D object at 0x000001D22162B3C8> False\n",
      "<keras.layers.normalization.BatchNormalization object at 0x000001D2215EA0B8> False\n",
      "<keras.layers.core.Activation object at 0x000001D2216CC9B0> False\n",
      "<keras.layers.convolutional.Conv2D object at 0x000001D2216EFEF0> False\n",
      "<keras.layers.normalization.BatchNormalization object at 0x000001D22170C2E8> False\n",
      "<keras.layers.merge.Add object at 0x000001D22179B8D0> False\n",
      "<keras.layers.core.Activation object at 0x000001D22182F438> False\n",
      "<keras.layers.convolutional.Conv2D object at 0x000001D22182F470> False\n",
      "<keras.layers.normalization.BatchNormalization object at 0x000001D2218ACDD8> False\n",
      "<keras.layers.core.Activation object at 0x000001D2219282E8> False\n",
      "<keras.layers.convolutional.Conv2D object at 0x000001D221949A90> False\n",
      "<keras.layers.normalization.BatchNormalization object at 0x000001D221A21CC0> False\n",
      "<keras.layers.core.Activation object at 0x000001D221A449E8> False\n",
      "<keras.layers.convolutional.Conv2D object at 0x000001D221A67CF8> False\n",
      "<keras.layers.normalization.BatchNormalization object at 0x000001D221A847F0> False\n",
      "<keras.layers.merge.Add object at 0x000001D221B17898> False\n",
      "<keras.layers.core.Activation object at 0x000001D221B8FEF0> False\n",
      "<keras.layers.convolutional.Conv2D object at 0x000001D221BAD278> False\n",
      "<keras.layers.normalization.BatchNormalization object at 0x000001D221C02B38> False\n",
      "<keras.layers.core.Activation object at 0x000001D221CA32B0> False\n",
      "<keras.layers.convolutional.Conv2D object at 0x000001D221CC59E8> False\n",
      "<keras.layers.normalization.BatchNormalization object at 0x000001D221CFC0F0> False\n",
      "<keras.layers.core.Activation object at 0x000001D221DC39B0> False\n",
      "<keras.layers.convolutional.Conv2D object at 0x000001D221DE8BE0> False\n",
      "<keras.layers.normalization.BatchNormalization object at 0x000001D221E057B8> False\n",
      "<keras.layers.merge.Add object at 0x000001D221E95860> False\n",
      "<keras.layers.core.Activation object at 0x000001D221F09320> False\n",
      "<keras.layers.convolutional.Conv2D object at 0x000001D221F09208> False\n",
      "<keras.layers.normalization.BatchNormalization object at 0x000001D221F81B00> False\n",
      "<keras.layers.core.Activation object at 0x000001D22201F278> False\n",
      "<keras.layers.convolutional.Conv2D object at 0x000001D222046DA0> False\n",
      "<keras.layers.normalization.BatchNormalization object at 0x000001D22207E240> False\n",
      "<keras.layers.core.Activation object at 0x000001D222140978> False\n",
      "<keras.layers.convolutional.Conv2D object at 0x000001D2221BFA20> False\n",
      "<keras.layers.convolutional.Conv2D object at 0x000001D222211D68> False\n",
      "<keras.layers.normalization.BatchNormalization object at 0x000001D22217F518> False\n",
      "<keras.layers.normalization.BatchNormalization object at 0x000001D2222A6828> False\n",
      "<keras.layers.merge.Add object at 0x000001D2222C28D0> False\n",
      "<keras.layers.core.Activation object at 0x000001D2223C1D68> False\n",
      "<keras.layers.convolutional.Conv2D object at 0x000001D2223FDA90> False\n",
      "<keras.layers.normalization.BatchNormalization object at 0x000001D2223E5BE0> False\n",
      "<keras.layers.core.Activation object at 0x000001D2224467F0> False\n",
      "<keras.layers.convolutional.Conv2D object at 0x000001D2224E1F28> False\n",
      "<keras.layers.normalization.BatchNormalization object at 0x000001D222502EF0> False\n",
      "<keras.layers.core.Activation object at 0x000001D2225D0128> False\n",
      "<keras.layers.convolutional.Conv2D object at 0x000001D222624AC8> False\n",
      "<keras.layers.normalization.BatchNormalization object at 0x000001D222624128> False\n",
      "<keras.layers.merge.Add object at 0x000001D2226F5630> False\n",
      "<keras.layers.core.Activation object at 0x000001D222743D68> False\n",
      "<keras.layers.convolutional.Conv2D object at 0x000001D22277AA90> False\n",
      "<keras.layers.normalization.BatchNormalization object at 0x000001D22275FD68> False\n",
      "<keras.layers.core.Activation object at 0x000001D2227C07F0> False\n",
      "<keras.layers.convolutional.Conv2D object at 0x000001D22285EF60> False\n",
      "<keras.layers.normalization.BatchNormalization object at 0x000001D22287CBE0> False\n",
      "<keras.layers.core.Activation object at 0x000001D22294E160> False\n",
      "<keras.layers.convolutional.Conv2D object at 0x000001D2229D6128> False\n",
      "<keras.layers.normalization.BatchNormalization object at 0x000001D2229A20F0> False\n",
      "<keras.layers.merge.Add object at 0x000001D222A6F5F8> False\n",
      "<keras.layers.core.Activation object at 0x000001D222ABFF28> False\n",
      "<keras.layers.core.Flatten object at 0x000001D228C478D0> True\n",
      "<keras.layers.core.Dense object at 0x000001D228C47EB8> True\n"
     ]
    }
   ],
   "source": [
    "# Shows that all ResNet50 prebuilt layers are not trainable.\n",
    "# Note that the flattened final layer shows as trainable.\n",
    "for layer in ResNet50_model0.layers:\n",
    "    print(layer, layer.trainable)"
   ]
  },
  {
   "cell_type": "code",
   "execution_count": 44,
   "metadata": {},
   "outputs": [
    {
     "name": "stdout",
     "output_type": "stream",
     "text": [
      "(30000, 32, 32, 3)\n",
      "(30000, 10)\n",
      "(5000, 32, 32, 3)\n",
      "(5000, 10)\n",
      "WARNING:tensorflow:From C:\\Users\\mlcur\\Anaconda3\\envs\\Python 3.6\\lib\\site-packages\\tensorflow\\python\\ops\\math_ops.py:3066: to_int32 (from tensorflow.python.ops.math_ops) is deprecated and will be removed in a future version.\n",
      "Instructions for updating:\n",
      "Use tf.cast instead.\n",
      "Train on 30000 samples, validate on 5000 samples\n",
      "Epoch 1/5\n",
      "30000/30000 [==============================] - 206s 7ms/step - loss: 0.6874 - acc: 0.6680 - val_loss: 0.5467 - val_acc: 0.6966\n",
      "Epoch 2/5\n",
      "30000/30000 [==============================] - 206s 7ms/step - loss: 0.4606 - acc: 0.8171 - val_loss: 0.4608 - val_acc: 0.8621\n",
      "Epoch 3/5\n",
      "30000/30000 [==============================] - 210s 7ms/step - loss: 0.4035 - acc: 0.8561 - val_loss: 0.4321 - val_acc: 0.8995\n",
      "Epoch 4/5\n",
      "30000/30000 [==============================] - 235s 8ms/step - loss: 0.3724 - acc: 0.8733 - val_loss: 0.4188 - val_acc: 0.9000\n",
      "Epoch 5/5\n",
      "30000/30000 [==============================] - 239s 8ms/step - loss: 0.3490 - acc: 0.8830 - val_loss: 0.4120 - val_acc: 0.9000\n"
     ]
    }
   ],
   "source": [
    "# Printing the shape of the training and  test datasets to ensure that they have the correct shapes.\n",
    "print (str(X_train_reshape.shape))\n",
    "print (str(y_train_s1.shape))\n",
    "print (str(X_test_reshape.shape))\n",
    "print (str(y_test_s1.shape))\n",
    "\n",
    "history_ResNet50_model0 = ResNet50_model0.fit(X_train_reshape, y_train_s1, epochs=5,\n",
    "                    validation_data=(X_test_reshape, y_test_s1),\n",
    "                   batch_size = 100)"
   ]
  },
  {
   "cell_type": "code",
   "execution_count": null,
   "metadata": {},
   "outputs": [],
   "source": [
    "# Print the model scores.\n",
    "score_ResNet50_model0 = ResNet50_model0.evaluate(X_test_reshape, y_test_s1, verbose=0)\n",
    "\n",
    "print('Test loss:', score_ResNet50_model0[0])\n",
    "print('Test accuracy:', score_ResNet50_model0[1])"
   ]
  },
  {
   "cell_type": "code",
   "execution_count": null,
   "metadata": {},
   "outputs": [],
   "source": [
    "#----------------------------------------------------\n",
    "# Saving history details for running ResNet50_model0\n",
    "#----------------------------------------------------\n",
    "import pickle\n",
    "\n",
    "# Saving this out for use\n",
    "with open('history_ResNet50_model0.pickle', 'wb') as file_out:\n",
    "    pickle.dump(history_ResNet50_model0, file_out)\n",
    "    file_out.close()\n",
    "    \n",
    "# Load data (deserialize)\n",
    "with open('history_ResNet50_model0.pickle', 'rb') as file_in:\n",
    "    history_ResNet50_model0 = pickle.load(file_in)\n",
    "\n",
    "#----------------------------------------------------\n",
    "# Saving score details of ResNet50_model0\n",
    "#----------------------------------------------------\n",
    "import pickle\n",
    "\n",
    "# Saving this out for use\n",
    "with open('score_ResNet50_model0.pickle', 'wb') as file_out:\n",
    "    pickle.dump(score_ResNet50_model0, file_out)\n",
    "    file_out.close()\n",
    "    \n",
    "# Load data (deserialize)\n",
    "with open('score_ResNet50_model0.pickle', 'rb') as file_in:\n",
    "    score_ResNet50_model0 = pickle.load(file_in)"
   ]
  },
  {
   "cell_type": "markdown",
   "metadata": {},
   "source": [
    "## 4. Adding two dense layers in the Architecture "
   ]
  },
  {
   "cell_type": "code",
   "execution_count": null,
   "metadata": {},
   "outputs": [],
   "source": [
    "# Load ResNet50_prebuilt model file saved previously.\n",
    "with open('ResNet50_prebuilt.pickle', 'rb') as file_in:\n",
    "    ResNet50_prebuilt = pickle.load(file_in)\n",
    "\n",
    "# Loading the training and test datasets.\n",
    "with open('X_train_reshape.pickle', 'rb') as file_in:\n",
    "    X_train_reshape = pickle.load(file_in)\n",
    "    file_in.close()\n",
    "\n",
    "with open('X_test_reshape.pickle', 'rb') as file_in:\n",
    "    X_test_reshape = pickle.load(file_in)\n",
    "    file_in.close()\n",
    "    \n",
    "with open('y_train_s1.pickle', 'rb') as file_in:\n",
    "    y_train_s1 = pickle.load(file_in)\n",
    "    file_in.close()\n",
    "\n",
    "with open('y_test_s1.pickle', 'rb') as file_in:\n",
    "    y_test_s1 = pickle.load(file_in)\n",
    "    file_in.close()"
   ]
  },
  {
   "cell_type": "code",
   "execution_count": null,
   "metadata": {},
   "outputs": [],
   "source": [
    "# Set all the layers to not be trainable (freezing all layers)\n",
    "\n",
    "for layer in ResNet50_prebuilt.layers[:]:\n",
    "    layer.trainable = False"
   ]
  },
  {
   "cell_type": "code",
   "execution_count": null,
   "metadata": {},
   "outputs": [],
   "source": [
    "# Adding two Dense layers (one with 64 nodes and another with 128) in addition to the ResNet50_prebuilt output layers.\n",
    "# Flattened the shape output of the Dense layer(128 nodes) so that it is the same shape as the final(prediction) layer.\n",
    "x = ResNet50_prebuilt.output\n",
    "x = Dense(64)(x)\n",
    "x = Activation(\"relu\")(x)\n",
    "x = Dense(128)(x)\n",
    "x = Activation(\"relu\")(x)\n",
    "x = Flatten()(x)\n",
    "\n",
    "preds = Dense(10, activation=\"sigmoid\")(x)"
   ]
  },
  {
   "cell_type": "code",
   "execution_count": null,
   "metadata": {},
   "outputs": [],
   "source": [
    "from keras.models import Model \n",
    "ResNet50_model1 = Model(input=ResNet50_prebuilt.input, outputs=preds)"
   ]
  },
  {
   "cell_type": "code",
   "execution_count": null,
   "metadata": {},
   "outputs": [],
   "source": [
    "from keras import optimizers \n",
    "ResNet50_model1.compile(loss=\"binary_crossentropy\",\n",
    "              optimizer=optimizers.SGD(lr=0.0001, momentum=0.9), metrics=[\"accuracy\"])"
   ]
  },
  {
   "cell_type": "code",
   "execution_count": null,
   "metadata": {},
   "outputs": [],
   "source": [
    "import pickle\n",
    "\n",
    "# Saving this out for use\n",
    "with open('ResNet50_model1.pickle', 'wb') as file_out:\n",
    "    pickle.dump(ResNet50_model1, file_out)\n",
    "    file_out.close()"
   ]
  },
  {
   "cell_type": "code",
   "execution_count": null,
   "metadata": {},
   "outputs": [],
   "source": [
    "ResNet50_model1.summary()"
   ]
  },
  {
   "cell_type": "code",
   "execution_count": null,
   "metadata": {},
   "outputs": [],
   "source": [
    "# Check which layers in the model are trainable.\n",
    "for layer in ResNet50_model1.layers:\n",
    "    print(layer, layer.trainable)"
   ]
  },
  {
   "cell_type": "code",
   "execution_count": null,
   "metadata": {},
   "outputs": [],
   "source": [
    "print (str(X_train_reshape.shape))\n",
    "print (str(y_train_s1.shape))\n",
    "print (str(X_test_reshape.shape))\n",
    "print (str(y_test_s1.shape))\n",
    "\n",
    "history_ResNet50_model1 = ResNet50_model1.fit(X_train_reshape, y_train_s1, epochs=5,\n",
    "                    validation_data=(X_test_reshape, y_test_s1),\n",
    "                   batch_size = 100)\n"
   ]
  },
  {
   "cell_type": "code",
   "execution_count": null,
   "metadata": {},
   "outputs": [],
   "source": [
    "# We can get our score\n",
    "score_ResNet50_model1 = ResNet50_model1.evaluate(X_test_reshape, y_test_s1, verbose=0)\n",
    "\n",
    "print('Test loss:', score_ResNet50_model1[0])\n",
    "print('Test accuracy:', score_ResNet50_model1[1])"
   ]
  },
  {
   "cell_type": "code",
   "execution_count": null,
   "metadata": {},
   "outputs": [],
   "source": [
    "#import pickle\n",
    "#----------------------------------------------------\n",
    "# Saving history details for running ResNet50_model0\n",
    "#----------------------------------------------------\n",
    "import pickle\n",
    "\n",
    "# Saving this out for use\n",
    "with open('history_ResNet50_model1.pickle', 'wb') as file_out:\n",
    "    pickle.dump(history_ResNet50_model1, file_out)\n",
    "    file_out.close()\n",
    "    \n",
    "# Load data (deserialize)\n",
    "with open('history_ResNet50_model1.pickle', 'rb') as file_in:\n",
    "    history_ResNet50_model1 = pickle.load(file_in)\n",
    "\n",
    "#----------------------------------------------------\n",
    "# Saving score details of ResNet50_model0\n",
    "#----------------------------------------------------\n",
    "import pickle\n",
    "\n",
    "# Saving this out for use\n",
    "with open('score_ResNet50_model1.pickle', 'wb') as file_out:\n",
    "    pickle.dump(score_ResNet50_model1, file_out)\n",
    "    file_out.close()\n",
    "    \n",
    "# Load data (deserialize)\n",
    "with open('score_ResNet50_model1.pickle', 'rb') as file_in:\n",
    "    score_ResNet50_model1 = pickle.load(file_in)"
   ]
  },
  {
   "cell_type": "markdown",
   "metadata": {},
   "source": [
    "## 5.0 Unfreeze  last two layers"
   ]
  },
  {
   "cell_type": "code",
   "execution_count": null,
   "metadata": {},
   "outputs": [],
   "source": [
    "# Load ResNet50_prebuilt model from a saved file.\n",
    "with open('ResNet50_prebuilt.pickle', 'rb') as file_in:\n",
    "    ResNet50_prebuilt = pickle.load(file_in)\n",
    "\n",
    "# Load training and testing dataset from saved files.\n",
    "with open('X_train_reshape.pickle', 'rb') as file_in:\n",
    "    X_train_reshape = pickle.load(file_in)\n",
    "    file_in.close()\n",
    "\n",
    "with open('X_test_reshape.pickle', 'rb') as file_in:\n",
    "    X_test_reshape = pickle.load(file_in)\n",
    "    file_in.close()\n",
    "    \n",
    "with open('y_train_s1.pickle', 'rb') as file_in:\n",
    "    y_train_s1 = pickle.load(file_in)\n",
    "    file_in.close()\n",
    "\n",
    "with open('y_test_s1.pickle', 'rb') as file_in:\n",
    "    y_test_s1 = pickle.load(file_in)\n",
    "    file_in.close()"
   ]
  },
  {
   "cell_type": "code",
   "execution_count": null,
   "metadata": {},
   "outputs": [],
   "source": [
    "# Set all the layers to not be trainable (freezing all layers)\n",
    "\n",
    "for layer in ResNet50_prebuilt.layers[:-2]:\n",
    "    layer.trainable = False"
   ]
  },
  {
   "cell_type": "code",
   "execution_count": null,
   "metadata": {},
   "outputs": [],
   "source": [
    "# Now let us add our dense final layer\n",
    "x = ResNet50_prebuilt.output\n",
    "x = Dense(64)(x)\n",
    "x = Activation(\"relu\")(x)\n",
    "x = Dense(128)(x)\n",
    "x = Activation(\"relu\")(x)\n",
    "x = Flatten()(x)\n",
    "\n",
    "preds = Dense(10, activation=\"sigmoid\")(x)"
   ]
  },
  {
   "cell_type": "code",
   "execution_count": null,
   "metadata": {},
   "outputs": [],
   "source": [
    "from keras.models import Model \n",
    "ResNet50_model2 = Model(input=ResNet50_prebuilt.input, outputs=preds)"
   ]
  },
  {
   "cell_type": "code",
   "execution_count": null,
   "metadata": {},
   "outputs": [],
   "source": [
    "from keras import optimizers \n",
    "ResNet50_model2.compile(loss=\"binary_crossentropy\",\n",
    "              optimizer=optimizers.SGD(lr=0.0001, momentum=0.9), metrics=[\"accuracy\"])"
   ]
  },
  {
   "cell_type": "code",
   "execution_count": null,
   "metadata": {},
   "outputs": [],
   "source": [
    "import pickle\n",
    "\n",
    "# Saving this out for use\n",
    "with open('ResNet50_model2.pickle', 'wb') as file_out:\n",
    "    pickle.dump(ResNet50_model2, file_out)\n",
    "    file_out.close()"
   ]
  },
  {
   "cell_type": "code",
   "execution_count": null,
   "metadata": {},
   "outputs": [],
   "source": [
    "ResNet50_model2.summary()"
   ]
  },
  {
   "cell_type": "code",
   "execution_count": null,
   "metadata": {},
   "outputs": [],
   "source": [
    "for layer in ResNet50_model2.layers:\n",
    "    print(layer, layer.trainable)"
   ]
  },
  {
   "cell_type": "code",
   "execution_count": null,
   "metadata": {},
   "outputs": [],
   "source": [
    "print (str(X_train_reshape.shape))\n",
    "print (str(y_train_s1.shape))\n",
    "print (str(X_test_reshape.shape))\n",
    "print (str(y_test_s1.shape))\n",
    "\n",
    "history_ResNet50_model2 = ResNet50_model2.fit(X_train_reshape, y_train_s1, epochs=5,\n",
    "                    validation_data=(X_test_reshape, y_test_s1),\n",
    "                   batch_size = 100)"
   ]
  },
  {
   "cell_type": "code",
   "execution_count": null,
   "metadata": {},
   "outputs": [],
   "source": [
    "# We can get our score\n",
    "score_ResNet50_model2 = ResNet50_model2.evaluate(X_test_reshape, y_test_s1, verbose=0)\n",
    "\n",
    "print('Test loss:', score_ResNet50_model2[0])\n",
    "print('Test accuracy:', score_ResNet50_model2[1])"
   ]
  },
  {
   "cell_type": "code",
   "execution_count": null,
   "metadata": {},
   "outputs": [],
   "source": [
    "#import pickle\n",
    "#----------------------------------------------------\n",
    "# Saving history details for running ResNet50_model2\n",
    "#----------------------------------------------------\n",
    "import pickle\n",
    "\n",
    "# Saving this out for use\n",
    "with open('history_ResNet50_model2.pickle', 'wb') as file_out:\n",
    "    pickle.dump(history_ResNet50_model2, file_out)\n",
    "    file_out.close()\n",
    "    \n",
    "# Load data (deserialize)\n",
    "with open('history_ResNet50_model2.pickle', 'rb') as file_in:\n",
    "    history_ResNet50_model2 = pickle.load(file_in)\n",
    "\n",
    "#----------------------------------------------------\n",
    "# Saving score details of ResNet50_model0\n",
    "#----------------------------------------------------\n",
    "import pickle\n",
    "\n",
    "# Saving this out for use\n",
    "with open('score_ResNet50_model2.pickle', 'wb') as file_out:\n",
    "    pickle.dump(score_ResNet50_model2, file_out)\n",
    "    file_out.close()\n",
    "    \n",
    "# Load data (deserialize)\n",
    "with open('score_ResNet50_model2.pickle', 'rb') as file_in:\n",
    "    score_ResNet50_model2 = pickle.load(file_in)"
   ]
  },
  {
   "cell_type": "markdown",
   "metadata": {},
   "source": [
    "## 4.5 Part 1 Summary"
   ]
  },
  {
   "cell_type": "markdown",
   "metadata": {},
   "source": [
    "1\tBUSINESS UNDERSTANDING\n",
    "1.1\tDATA MINING TASK\n",
    "1.2\tDATASET INFORMATION\n",
    "1.3\tDATA EXPLORATION (TRAINING DATASET)\n",
    "1.3.1\tSummary Statistics \n",
    "2\tDATA PREPARATION AND TRANSFORMATION\n",
    "Model Exploration and Evaluation\n",
    "Summary"
   ]
  },
  {
   "cell_type": "markdown",
   "metadata": {},
   "source": [
    "# Part 2 - New Model"
   ]
  },
  {
   "cell_type": "code",
   "execution_count": null,
   "metadata": {},
   "outputs": [],
   "source": [
    "# Saving this out for use\n",
    "with open('X_train_s1.pickle', 'rb') as file_in:\n",
    "    X_train_s1 = pickle.load(file_in)\n",
    "    file_in.close()\n",
    "\n",
    "with open('X_test_s1.pickle', 'rb') as file_in:\n",
    "    X_test_s1 = pickle.load(file_in)\n",
    "    file_in.close()\n",
    "    \n",
    "with open('y_train_s1.pickle', 'rb') as file_in:\n",
    "    y_train_s1 = pickle.load(file_in)\n",
    "    file_in.close()\n",
    "\n",
    "with open('y_test_s1.pickle', 'rb') as file_in:\n",
    "    y_test_s1 = pickle.load(file_in)\n",
    "    file_in.close()\n",
    "    \n",
    "print (str(X_train_s1.shape))\n",
    "print (str(y_train_s1.shape))\n",
    "print (str(X_test_s1.shape))\n",
    "print (str(y_test_s1.shape))"
   ]
  },
  {
   "cell_type": "code",
   "execution_count": null,
   "metadata": {},
   "outputs": [],
   "source": [
    "# Using only 2500 images as my computer does not allow more than 4Gb.\n",
    "X_train_s2 = X_train\n",
    "y_train_s2 = y_train\n",
    "\n",
    "X_test_s2 = X_test\n",
    "y_test_s2 = y_test"
   ]
  },
  {
   "cell_type": "code",
   "execution_count": null,
   "metadata": {},
   "outputs": [],
   "source": [
    "# We need to do some reshaping\n",
    "import skimage.transform\n",
    "\n",
    "X_train_reshape2 = []\n",
    "\n",
    "count = 0\n",
    "\n",
    "for image in X_train_s2:\n",
    "    \n",
    "    # Tracking how many images have been resized.\n",
    "    count +=1 \n",
    "    if count % 500 == 0:\n",
    "        print(\"Done {} images\".format(count))\n",
    "        \n",
    "    new_image = skimage.transform.resize(image, (28,28,3), mode='constant')\n",
    "    X_train_reshape2.append(new_image)"
   ]
  },
  {
   "cell_type": "code",
   "execution_count": null,
   "metadata": {},
   "outputs": [],
   "source": [
    "import matplotlib.pyplot as plt\n",
    "%matplotlib inline\n",
    "\n",
    "X_train_reshape2 = np.array(X_train_reshape2)\n",
    "print(\"X_train shape before: \" + str(X_train_s2.shape))\n",
    "print(\"X_train shape after: \" + str(X_train_reshape2.shape))\n",
    "\n",
    "print(\"y_train shape before: \" + str(y_train_s2.shape))\n",
    "\n",
    "img_path = X_train_reshape2[0]\n",
    "plt.imshow(img_path)\n",
    "plt.xticks([])\n",
    "plt.yticks([])"
   ]
  },
  {
   "cell_type": "code",
   "execution_count": null,
   "metadata": {},
   "outputs": [],
   "source": [
    "# Reshaping testing dataset\n",
    "X_test_reshape2 = []\n",
    "\n",
    "count = 0\n",
    "\n",
    "for image in X_test_s2:\n",
    "    \n",
    "    # Tracking how many images have been resized.\n",
    "    count +=1 \n",
    "    if count % 500 == 0:\n",
    "        print(\"Done {} images\".format(count))\n",
    "        \n",
    "    new_image = skimage.transform.resize(image, (28, 28,3), mode='constant')\n",
    "    X_test_reshape2.append(new_image)"
   ]
  },
  {
   "cell_type": "code",
   "execution_count": null,
   "metadata": {},
   "outputs": [],
   "source": [
    "X_test_reshape2 = np.array(X_test_reshape2)\n",
    "print(\"X_test shape before: \" + str(X_test_s2.shape))\n",
    "print(\"X_test shape after: \" + str(X_test_reshape2.shape))\n",
    "#y_test = y_test.reshape(10, y_test.shape[0])\n",
    "print(\"y_test shape before: \" + str(y_test_s2.shape))\n",
    "\n",
    "img_path = X_test_reshape2[0]\n",
    "plt.imshow(img_path)\n",
    "plt.xticks([])\n",
    "plt.yticks([])"
   ]
  },
  {
   "cell_type": "code",
   "execution_count": null,
   "metadata": {},
   "outputs": [],
   "source": [
    "model = Sequential()\n",
    "model.add(Conv2D(filters=32, kernel_size=(3,3), padding=\"same\", kernel_initializer=\"he_normal\", input_shape=[28, 28, 3]))\n",
    "model.add(Activation(\"relu\"))\n",
    "model.add(Conv2D(filters=64, kernel_size=(3,3), padding=\"same\", kernel_initializer=\"he_normal\"))\n",
    "model.add(Activation(\"relu\"))\n",
    "model.add(Conv2D(filters=64, kernel_size=(3,3), padding=\"same\", kernel_initializer=\"he_normal\"))\n",
    "model.add(Activation(\"relu\"))\n",
    "model.add(MaxPool2D((2, 2)))\n",
    "\n",
    "model.add(Conv2D(filters=128, kernel_size=(3,3), padding=\"same\", kernel_initializer=\"he_normal\"))\n",
    "model.add(Activation(\"relu\"))\n",
    "model.add(Conv2D(filters=128, kernel_size=(3,3), padding=\"same\", kernel_initializer=\"he_normal\"))\n",
    "model.add(Activation(\"relu\"))\n",
    "model.add(MaxPool2D((2, 2)))\n",
    "\n",
    "#model.add(Flatten())\n",
    "model.add(Dense(64))\n",
    "model.add(BatchNormalization())\n",
    "model.add(Activation(\"relu\"))\n",
    "\n",
    "model.add(Dense(128))\n",
    "model.add(BatchNormalization())\n",
    "model.add(Activation(\"relu\"))\n",
    "\n",
    "model.add(Flatten())\n",
    "# Sigmoid classifier\n",
    "model.add(Dense(10))\n",
    "model.add(Activation(\"sigmoid\"))\n"
   ]
  },
  {
   "cell_type": "code",
   "execution_count": null,
   "metadata": {},
   "outputs": [],
   "source": [
    "model.compile(loss=\"binary_crossentropy\",\n",
    "              optimizer=Adam(), metrics=[\"accuracy\"])"
   ]
  },
  {
   "cell_type": "code",
   "execution_count": null,
   "metadata": {},
   "outputs": [],
   "source": [
    "model.summary()"
   ]
  },
  {
   "cell_type": "code",
   "execution_count": null,
   "metadata": {
    "scrolled": true
   },
   "outputs": [],
   "source": [
    "history_new_model = model.fit(X_train_reshape2, y_train_s2, epochs=15,\n",
    "                    validation_data=(X_test_reshape2, y_test_s2),\n",
    "                   batch_size = 100)"
   ]
  },
  {
   "cell_type": "code",
   "execution_count": null,
   "metadata": {},
   "outputs": [],
   "source": [
    "# We can get our score\n",
    "score_new_model = model.evaluate(X_test_reshape2, y_test_s2, verbose=0)\n",
    "\n",
    "print('Test loss:', score_new_model [0])\n",
    "print('Test accuracy:', score_new_model [1])"
   ]
  },
  {
   "cell_type": "code",
   "execution_count": null,
   "metadata": {},
   "outputs": [],
   "source": [
    "plot_model(model, to_file='model_plot.png', show_shapes=True, show_layer_names=True)"
   ]
  }
 ],
 "metadata": {
  "kernelspec": {
   "display_name": "Python 3",
   "language": "python",
   "name": "python3"
  },
  "language_info": {
   "codemirror_mode": {
    "name": "ipython",
    "version": 3
   },
   "file_extension": ".py",
   "mimetype": "text/x-python",
   "name": "python",
   "nbconvert_exporter": "python",
   "pygments_lexer": "ipython3",
   "version": "3.6.8"
  }
 },
 "nbformat": 4,
 "nbformat_minor": 2
}
